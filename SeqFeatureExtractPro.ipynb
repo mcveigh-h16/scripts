{
 "cells": [
  {
   "cell_type": "markdown",
   "metadata": {},
   "source": [
    "Notebook to extract the a feature sequence and save as fasta. In exon/intron sequences it will extract the exons only"
   ]
  },
  {
   "cell_type": "code",
   "execution_count": 10,
   "metadata": {},
   "outputs": [],
   "source": [
    "from Bio import SeqIO\n",
    "from Bio.Seq import Seq\n",
    "from Bio.SeqRecord import SeqRecord\n",
    "from Bio.Alphabet import IUPAC\n",
    "sequence = []  \n",
    "from Bio import SeqFeature\n",
    "import sys"
   ]
  },
  {
   "cell_type": "code",
   "execution_count": 19,
   "metadata": {},
   "outputs": [
    {
     "name": "stdout",
     "output_type": "stream",
     "text": [
      "NC_056404.1 [14398:15539](+)\n",
      "NC_056405.1 [14378:15519](+)\n",
      "NC_005840.1 [9049:10127](-)\n",
      "NC_022709.1 join{[12958:13188](+), [13189:14078](+)}\n",
      "NC_037470.1 [14360:15498](+)\n",
      "NC_037499.1 [10869:12006](+)\n",
      "NC_037502.1 [14378:15519](+)\n",
      "NC_037505.1 [14421:15562](+)\n",
      "NC_037527.1 [14189:15329](+)\n",
      "NC_037359.1 [4496:5654](+)\n",
      "NC_037368.1 [10330:11467](+)\n",
      "NC_037380.1 [14256:15408](+)\n",
      "NC_037382.1 [14475:15616](+)\n",
      "NC_037383.1 [14293:15422](+)\n",
      "NC_037385.1 [14313:15442](+)\n",
      "NC_037387.1 [14286:15415](+)\n",
      "NC_037391.1 [6947:8096](+)\n",
      "NC_037395.1 [10453:11602](+)\n",
      "NC_037396.1 [10453:11602](+)\n",
      "NC_037398.1 [8781:9921](+)\n",
      "NC_037408.1 [14379:15520](+)\n",
      "NC_037435.1 [4720:5881](+)\n",
      "NC_037441.1 [10472:11621](+)\n",
      "NC_037445.1 [10466:11615](+)\n",
      "NC_037486.1 [13685:14828](+)\n",
      "NC_037488.1 [11258:12392](+)\n",
      "NC_037493.1 [13124:14204](+)\n",
      "NC_037496.1 [10723:11857](+)\n",
      "NC_037498.1 [10868:12005](+)\n",
      "NC_037509.1 [14150:15294](+)\n",
      "NC_037511.1 [10365:11499](+)\n",
      "NC_037513.1 [13644:14787](+)\n",
      "NC_037520.1 [14304:15445](+)\n",
      "NC_037525.1 [9755:10857](+)\n",
      "NC_037604.1 [7728:8868](+)\n"
     ]
    }
   ],
   "source": [
    "inputfile = (r'C:\\Users\\mcveigh\\Documents\\PythonPC\\test.gbk')\n",
    "feature_count = 0\n",
    "for seq_record in SeqIO.parse(inputfile, \"genbank\"): \n",
    "    dir(seq_record)\n",
    "    str_id = seq_record.id\n",
    "    counter = 0\n",
    "    for feature in seq_record.features:\n",
    "        if feature.type == 'CDS':\n",
    "            seq_record.description = seq_record.annotations[\"organism\"]\n",
    "            protname = str(feature.qualifiers.get(\"product\"))  \n",
    "            if protname == \"['cytochrome b']\":                              \n",
    "                counter += 1\n",
    "                if counter == 1:\n",
    "                    sequence_of_interest = feature.location.extract(seq_record).seq\n",
    "                    #sub_record.id = str_id\n",
    "                    defline = (seq_record.description + \" cytochrome b\")\n",
    "                    print(str_id, feature.location)\n",
    "                    \n",
    "                    #sequence.append(SeqRecord(sequence_of_interest,str_id,description))\n",
    "                    sequence.append(SeqRecord(sequence_of_interest,description=defline,id=str_id))\n",
    "                    feature_count += 1\n",
    "                    #print(counter)\n",
    "                elif counter > 1:\n",
    "                    print(str(str_id)+\" has \"+str(counter)+\" cytochrome b features\")\n",
    "                else:\n",
    "                    print(str(str_id)+\" has no cytochrome b features\")\n",
    "#print(sequence)\n",
    "\n"
   ]
  },
  {
   "cell_type": "code",
   "execution_count": 20,
   "metadata": {},
   "outputs": [
    {
     "data": {
      "text/plain": [
       "14718"
      ]
     },
     "execution_count": 20,
     "metadata": {},
     "output_type": "execute_result"
    }
   ],
   "source": [
    "SeqIO.write(sequence, \"chloroSSU3.fsa\", \"fasta\")  \n",
    "#f = open('workfile', 'w')\n",
    "#s = str(sequence)\n",
    "#f.write(s)\n",
    "#f.close()\n"
   ]
  },
  {
   "cell_type": "code",
   "execution_count": 21,
   "metadata": {},
   "outputs": [
    {
     "name": "stdout",
     "output_type": "stream",
     "text": [
      "35 sequences written to fasta.\n"
     ]
    }
   ],
   "source": [
    "print(str(feature_count) + \" sequences written to fasta.\")"
   ]
  },
  {
   "cell_type": "code",
   "execution_count": null,
   "metadata": {},
   "outputs": [],
   "source": []
  }
 ],
 "metadata": {
  "kernelspec": {
   "display_name": "Python 3",
   "language": "python",
   "name": "python3"
  },
  "language_info": {
   "codemirror_mode": {
    "name": "ipython",
    "version": 3
   },
   "file_extension": ".py",
   "mimetype": "text/x-python",
   "name": "python",
   "nbconvert_exporter": "python",
   "pygments_lexer": "ipython3",
   "version": "3.6.5"
  }
 },
 "nbformat": 4,
 "nbformat_minor": 2
}
